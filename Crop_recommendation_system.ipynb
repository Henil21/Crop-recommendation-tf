{
  "nbformat": 4,
  "nbformat_minor": 0,
  "metadata": {
    "colab": {
      "provenance": [],
      "gpuType": "T4",
      "authorship_tag": "ABX9TyM8D+QodRTGQfJrABylF7bU",
      "include_colab_link": true
    },
    "kernelspec": {
      "name": "python3",
      "display_name": "Python 3"
    },
    "language_info": {
      "name": "python"
    },
    "accelerator": "GPU"
  },
  "cells": [
    {
      "cell_type": "markdown",
      "metadata": {
        "id": "view-in-github",
        "colab_type": "text"
      },
      "source": [
        "<a href=\"https://colab.research.google.com/github/Henil21/Crop-recommendation-tf/blob/main/Crop_recommendation_system.ipynb\" target=\"_parent\"><img src=\"https://colab.research.google.com/assets/colab-badge.svg\" alt=\"Open In Colab\"/></a>"
      ]
    },
    {
      "cell_type": "code",
      "execution_count": 1,
      "metadata": {
        "id": "aA5IN_n31wMt"
      },
      "outputs": [],
      "source": [
        "import pandas as pd\n",
        "import numpy as np\n",
        "import tensorflow as tf\n",
        "from sklearn.model_selection import train_test_split\n",
        "from sklearn.preprocessing import LabelEncoder, StandardScaler\n",
        "\n"
      ]
    },
    {
      "cell_type": "code",
      "source": [
        "\n",
        "df = pd.read_csv('Crop_recommendation.csv')\n",
        "\n",
        "X = df.drop('label', axis=1)  # Features\n",
        "y = df['label']  # Labels\n",
        "\n",
        "label_encoder = LabelEncoder()\n",
        "y = label_encoder.fit_transform(y)\n",
        "\n",
        "\n",
        "X_train, X_test, y_train, y_test = train_test_split(X, y, test_size=0.2, random_state=42)\n",
        "\n",
        "\n",
        "scaler = StandardScaler()\n",
        "X_train_scaled = scaler.fit_transform(X_train)\n",
        "X_test_scaled = scaler.transform(X_test)\n",
        "# labels = df['label'].unique()\n",
        "# labels"
      ],
      "metadata": {
        "colab": {
          "base_uri": "https://localhost:8080/"
        },
        "id": "De96tGwQ2QMa",
        "outputId": "f7197530-c033-49a3-862c-78d79ec2488c"
      },
      "execution_count": 31,
      "outputs": [
        {
          "output_type": "execute_result",
          "data": {
            "text/plain": [
              "array(['rice', 'maize', 'chickpea', 'kidneybeans', 'pigeonpeas',\n",
              "       'mothbeans', 'mungbean', 'blackgram', 'lentil', 'pomegranate',\n",
              "       'banana', 'mango', 'grapes', 'watermelon', 'muskmelon', 'apple',\n",
              "       'orange', 'papaya', 'coconut', 'cotton', 'jute', 'coffee'],\n",
              "      dtype=object)"
            ]
          },
          "metadata": {},
          "execution_count": 31
        }
      ]
    },
    {
      "cell_type": "code",
      "source": [
        "tf.random.set_seed(42)\n",
        "model = tf.keras.models.Sequential([\n",
        "    tf.keras.layers.Input(shape=(X_train_scaled.shape[1],)),\n",
        "    tf.keras.layers.Dense(128, activation='relu'),\n",
        "    tf.keras.layers.Dense(64, activation='relu'),\n",
        "    tf.keras.layers.Dense(len(np.unique(y)), activation='softmax')  # Output layer\n",
        "])\n",
        "\n",
        "model.compile(optimizer='adam',\n",
        "              loss='sparse_categorical_crossentropy',\n",
        "              metrics=['accuracy'])\n",
        "\n",
        "model.fit(X_train_scaled, y_train, epochs=10, batch_size=32, validation_split=0.2)\n",
        "\n",
        "\n",
        "test_loss, test_acc = model.evaluate(X_test_scaled, y_test)\n",
        "print(f'Test accuracy: {test_acc}')\n"
      ],
      "metadata": {
        "colab": {
          "base_uri": "https://localhost:8080/"
        },
        "id": "JKpLSP-c2UkM",
        "outputId": "c537a842-e6ef-4af1-dd3d-3d4243233bb4"
      },
      "execution_count": 7,
      "outputs": [
        {
          "output_type": "stream",
          "name": "stdout",
          "text": [
            "Epoch 1/10\n",
            "44/44 [==============================] - 2s 17ms/step - loss: 2.7228 - accuracy: 0.3118 - val_loss: 2.3214 - val_accuracy: 0.4744\n",
            "Epoch 2/10\n",
            "44/44 [==============================] - 0s 6ms/step - loss: 1.7907 - accuracy: 0.6335 - val_loss: 1.3915 - val_accuracy: 0.7273\n",
            "Epoch 3/10\n",
            "44/44 [==============================] - 0s 8ms/step - loss: 0.9612 - accuracy: 0.8324 - val_loss: 0.7452 - val_accuracy: 0.8551\n",
            "Epoch 4/10\n",
            "44/44 [==============================] - 0s 8ms/step - loss: 0.5457 - accuracy: 0.8956 - val_loss: 0.4706 - val_accuracy: 0.8920\n",
            "Epoch 5/10\n",
            "44/44 [==============================] - 0s 11ms/step - loss: 0.3674 - accuracy: 0.9261 - val_loss: 0.3585 - val_accuracy: 0.9034\n",
            "Epoch 6/10\n",
            "44/44 [==============================] - 0s 8ms/step - loss: 0.2778 - accuracy: 0.9432 - val_loss: 0.2856 - val_accuracy: 0.9205\n",
            "Epoch 7/10\n",
            "44/44 [==============================] - 0s 9ms/step - loss: 0.2195 - accuracy: 0.9524 - val_loss: 0.2323 - val_accuracy: 0.9460\n",
            "Epoch 8/10\n",
            "44/44 [==============================] - 0s 8ms/step - loss: 0.1826 - accuracy: 0.9631 - val_loss: 0.2006 - val_accuracy: 0.9432\n",
            "Epoch 9/10\n",
            "44/44 [==============================] - 0s 11ms/step - loss: 0.1529 - accuracy: 0.9645 - val_loss: 0.1925 - val_accuracy: 0.9347\n",
            "Epoch 10/10\n",
            "44/44 [==============================] - 0s 7ms/step - loss: 0.1339 - accuracy: 0.9695 - val_loss: 0.1533 - val_accuracy: 0.9517\n",
            "14/14 [==============================] - 0s 4ms/step - loss: 0.1814 - accuracy: 0.9477\n",
            "Test accuracy: 0.9477272629737854\n"
          ]
        }
      ]
    },
    {
      "cell_type": "code",
      "source": [
        "model.save('model.h5')"
      ],
      "metadata": {
        "colab": {
          "base_uri": "https://localhost:8080/"
        },
        "id": "b7fuyKgn3Jon",
        "outputId": "e7092a9b-c4b9-4e42-a500-d8232845f412"
      },
      "execution_count": 8,
      "outputs": [
        {
          "output_type": "stream",
          "name": "stderr",
          "text": [
            "/usr/local/lib/python3.10/dist-packages/keras/src/engine/training.py:3103: UserWarning: You are saving your model as an HDF5 file via `model.save()`. This file format is considered legacy. We recommend using instead the native Keras format, e.g. `model.save('my_model.keras')`.\n",
            "  saving_api.save_model(\n"
          ]
        }
      ]
    },
    {
      "cell_type": "code",
      "source": [
        "# import numpy as np\n",
        "# import pandas as pd\n",
        "# from sklearn.preprocessing import StandardScaler, LabelEncoder\n",
        "# from tensorflow.keras.models import load_model\n",
        "\n",
        "# # Load your saved model\n",
        "# model = load_model('model.h5')\n",
        "\n",
        "# # Load your new data for prediction (assuming similar format as training data)\n",
        "# new_data = pd.DataFrame({\n",
        "#     'N': [85],  # Example values, replace with your actual data\n",
        "#     'P': [58],\n",
        "#     'K': [41],\n",
        "#     'temperature': [21.7],\n",
        "#     'humidity': [80],\n",
        "#     'ph': [6.5],\n",
        "#     'rainfall': [226.6]\n",
        "# })\n",
        "\n",
        "# # 85\t58\t41\t21.770462\t80.319644\t7.038096\t226.655537\n",
        "# # Preprocess new data (similar to training data preprocessing)\n",
        "# scaler = StandardScaler()\n",
        "# new_data_scaled = scaler.fit_transform(new_data)\n",
        "\n",
        "# # Make predictions\n",
        "# predictions = model.predict(new_data_scaled)\n",
        "\n",
        "# # # Decode predictions (if needed, based on label encoding used during training)\n",
        "# label_encoder = LabelEncoder()\n",
        "# # # Load label encoder mappings from training or use fit_transform on labels again\n",
        "# label_encoder.fit(y_train)\n",
        "# predicted_labels = label_encoder.inverse_transform(np.argmax(predictions, axis=1))\n",
        "\n",
        "# print(\"Predicted labels:\")\n",
        "# print(predicted_labels)\n"
      ],
      "metadata": {
        "colab": {
          "base_uri": "https://localhost:8080/"
        },
        "id": "ELfTCIrb4TZL",
        "outputId": "4744eb80-ae6f-4e8c-dfb5-ca355421531d"
      },
      "execution_count": 21,
      "outputs": [
        {
          "output_type": "stream",
          "name": "stderr",
          "text": [
            "WARNING:tensorflow:6 out of the last 6 calls to <function Model.make_predict_function.<locals>.predict_function at 0x7bd7b63423b0> triggered tf.function retracing. Tracing is expensive and the excessive number of tracings could be due to (1) creating @tf.function repeatedly in a loop, (2) passing tensors with different shapes, (3) passing Python objects instead of tensors. For (1), please define your @tf.function outside of the loop. For (2), @tf.function has reduce_retracing=True option that can avoid unnecessary retracing. For (3), please refer to https://www.tensorflow.org/guide/function#controlling_retracing and https://www.tensorflow.org/api_docs/python/tf/function for  more details.\n"
          ]
        },
        {
          "output_type": "stream",
          "name": "stdout",
          "text": [
            "1/1 [==============================] - 0s 72ms/step\n",
            "Predicted labels:\n",
            "[17]\n"
          ]
        }
      ]
    },
    {
      "cell_type": "code",
      "source": [],
      "metadata": {
        "colab": {
          "base_uri": "https://localhost:8080/",
          "height": 141
        },
        "id": "xVfBT-eO6CpU",
        "outputId": "cb5994df-24c0-4003-b69f-2105eb68db47"
      },
      "execution_count": 23,
      "outputs": [
        {
          "output_type": "error",
          "ename": "AttributeError",
          "evalue": "'numpy.ndarray' object has no attribute 'unique'",
          "traceback": [
            "\u001b[0;31m---------------------------------------------------------------------------\u001b[0m",
            "\u001b[0;31mAttributeError\u001b[0m                            Traceback (most recent call last)",
            "\u001b[0;32m<ipython-input-23-bbbfd124eac3>\u001b[0m in \u001b[0;36m<cell line: 1>\u001b[0;34m()\u001b[0m\n\u001b[0;32m----> 1\u001b[0;31m \u001b[0my\u001b[0m\u001b[0;34m.\u001b[0m\u001b[0munique\u001b[0m\u001b[0;34m(\u001b[0m\u001b[0;34m)\u001b[0m\u001b[0;34m\u001b[0m\u001b[0;34m\u001b[0m\u001b[0m\n\u001b[0m",
            "\u001b[0;31mAttributeError\u001b[0m: 'numpy.ndarray' object has no attribute 'unique'"
          ]
        }
      ]
    },
    {
      "cell_type": "code",
      "source": [
        "import numpy as np\n",
        "import pandas as pd\n",
        "from sklearn.preprocessing import StandardScaler, LabelEncoder\n",
        "from tensorflow.keras.models import load_model\n",
        "\n",
        "# Load your saved model\n",
        "model = load_model('model.h5')\n",
        "\n",
        "# Load your new data for prediction (assuming similar format as training data)\n",
        "new_data = pd.DataFrame({\n",
        "    'N': [85],  # Example values, replace with your actual data\n",
        "    'P': [58],\n",
        "    'K': [41],\n",
        "    'temperature': [21.7],\n",
        "    'humidity': [80],\n",
        "    'ph': [6.5],\n",
        "    'rainfall': [226.6]\n",
        "})\n",
        "\n",
        "# Preprocess new data (similar to training data preprocessing)\n",
        "scaler = StandardScaler()\n",
        "new_data_scaled = scaler.fit_transform(new_data)\n",
        "\n",
        "# Make predictions\n",
        "predictions = model.predict(new_data_scaled)\n",
        "\n",
        "# Load label encoder mappings from training\n",
        "label_encoder = LabelEncoder()\n",
        "# Assuming 'labels' is the list of labels used during training\n",
        "labels =['rice', 'maize', 'chickpea', 'kidneybeans', 'pigeonpeas',\n",
        "       'mothbeans', 'mungbean', 'blackgram', 'lentil', 'pomegranate',\n",
        "       'banana', 'mango', 'grapes', 'watermelon', 'muskmelon', 'apple',\n",
        "       'orange', 'papaya', 'coconut', 'cotton', 'jute', 'coffee']\n",
        "label_encoder.fit(labels)\n",
        "\n",
        "# Decode predictions\n",
        "predicted_labels_encoded = np.argmax(predictions, axis=1)\n",
        "predicted_labels = label_encoder.inverse_transform(predicted_labels_encoded)\n",
        "\n",
        "print(\"Predicted labels (encoded):\")\n",
        "print(predicted_labels_encoded)\n",
        "\n",
        "print(\"Predicted labels (decoded):\")\n",
        "print(predicted_labels)\n"
      ],
      "metadata": {
        "colab": {
          "base_uri": "https://localhost:8080/"
        },
        "id": "tRNrox7j5t_M",
        "outputId": "2710ee80-5001-4bd6-e6eb-ea3cfaaec3f6"
      },
      "execution_count": 34,
      "outputs": [
        {
          "output_type": "stream",
          "name": "stdout",
          "text": [
            "1/1 [==============================] - 0s 73ms/step\n",
            "Predicted labels (encoded):\n",
            "[17]\n",
            "Predicted labels (decoded):\n",
            "['papaya']\n"
          ]
        }
      ]
    }
  ]
}