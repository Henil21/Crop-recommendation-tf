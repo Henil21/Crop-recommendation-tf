{
  "nbformat": 4,
  "nbformat_minor": 0,
  "metadata": {
    "colab": {
      "provenance": [],
      "gpuType": "T4",
      "authorship_tag": "ABX9TyPT1B9kjcP1BvIncEp06gih",
      "include_colab_link": true
    },
    "kernelspec": {
      "name": "python3",
      "display_name": "Python 3"
    },
    "language_info": {
      "name": "python"
    },
    "accelerator": "GPU"
  },
  "cells": [
    {
      "cell_type": "markdown",
      "metadata": {
        "id": "view-in-github",
        "colab_type": "text"
      },
      "source": [
        "<a href=\"https://colab.research.google.com/github/Henil21/Crop-recommendation-tf/blob/main/Crop_recommendation_system.ipynb\" target=\"_parent\"><img src=\"https://colab.research.google.com/assets/colab-badge.svg\" alt=\"Open In Colab\"/></a>"
      ]
    },
    {
      "cell_type": "code",
      "execution_count": 1,
      "metadata": {
        "id": "aA5IN_n31wMt"
      },
      "outputs": [],
      "source": [
        "import pandas as pd\n",
        "import numpy as np\n",
        "import tensorflow as tf\n",
        "from sklearn.model_selection import train_test_split\n",
        "from sklearn.preprocessing import LabelEncoder, StandardScaler\n",
        "\n"
      ]
    },
    {
      "cell_type": "code",
      "source": [
        "\n",
        "df = pd.read_csv('Crop_recommendation.csv')\n",
        "\n",
        "X = df.drop('label', axis=1)  # Features\n",
        "y = df['label']  # Labels\n",
        "\n",
        "label_encoder = LabelEncoder()\n",
        "y = label_encoder.fit_transform(y)\n",
        "\n",
        "\n",
        "X_train, X_test, y_train, y_test = train_test_split(X, y, test_size=0.2, random_state=42)\n",
        "\n",
        "\n",
        "scaler = StandardScaler()\n",
        "X_train_scaled = scaler.fit_transform(X_train)\n",
        "X_test_scaled = scaler.transform(X_test)\n",
        "\n"
      ],
      "metadata": {
        "id": "De96tGwQ2QMa"
      },
      "execution_count": 4,
      "outputs": []
    },
    {
      "cell_type": "code",
      "source": [
        "tf.random.set_seed(42)\n",
        "model = tf.keras.models.Sequential([\n",
        "    tf.keras.layers.Input(shape=(X_train_scaled.shape[1],)),\n",
        "    tf.keras.layers.Dense(128, activation='relu'),\n",
        "    tf.keras.layers.Dense(64, activation='relu'),\n",
        "    tf.keras.layers.Dense(len(np.unique(y)), activation='softmax')  # Output layer\n",
        "])\n",
        "\n",
        "model.compile(optimizer='adam',\n",
        "              loss='sparse_categorical_crossentropy',\n",
        "              metrics=['accuracy'])\n",
        "\n",
        "model.fit(X_train_scaled, y_train, epochs=10, batch_size=32, validation_split=0.2)\n",
        "\n",
        "\n",
        "test_loss, test_acc = model.evaluate(X_test_scaled, y_test)\n",
        "print(f'Test accuracy: {test_acc}')\n"
      ],
      "metadata": {
        "colab": {
          "base_uri": "https://localhost:8080/"
        },
        "id": "JKpLSP-c2UkM",
        "outputId": "c537a842-e6ef-4af1-dd3d-3d4243233bb4"
      },
      "execution_count": 7,
      "outputs": [
        {
          "output_type": "stream",
          "name": "stdout",
          "text": [
            "Epoch 1/10\n",
            "44/44 [==============================] - 2s 17ms/step - loss: 2.7228 - accuracy: 0.3118 - val_loss: 2.3214 - val_accuracy: 0.4744\n",
            "Epoch 2/10\n",
            "44/44 [==============================] - 0s 6ms/step - loss: 1.7907 - accuracy: 0.6335 - val_loss: 1.3915 - val_accuracy: 0.7273\n",
            "Epoch 3/10\n",
            "44/44 [==============================] - 0s 8ms/step - loss: 0.9612 - accuracy: 0.8324 - val_loss: 0.7452 - val_accuracy: 0.8551\n",
            "Epoch 4/10\n",
            "44/44 [==============================] - 0s 8ms/step - loss: 0.5457 - accuracy: 0.8956 - val_loss: 0.4706 - val_accuracy: 0.8920\n",
            "Epoch 5/10\n",
            "44/44 [==============================] - 0s 11ms/step - loss: 0.3674 - accuracy: 0.9261 - val_loss: 0.3585 - val_accuracy: 0.9034\n",
            "Epoch 6/10\n",
            "44/44 [==============================] - 0s 8ms/step - loss: 0.2778 - accuracy: 0.9432 - val_loss: 0.2856 - val_accuracy: 0.9205\n",
            "Epoch 7/10\n",
            "44/44 [==============================] - 0s 9ms/step - loss: 0.2195 - accuracy: 0.9524 - val_loss: 0.2323 - val_accuracy: 0.9460\n",
            "Epoch 8/10\n",
            "44/44 [==============================] - 0s 8ms/step - loss: 0.1826 - accuracy: 0.9631 - val_loss: 0.2006 - val_accuracy: 0.9432\n",
            "Epoch 9/10\n",
            "44/44 [==============================] - 0s 11ms/step - loss: 0.1529 - accuracy: 0.9645 - val_loss: 0.1925 - val_accuracy: 0.9347\n",
            "Epoch 10/10\n",
            "44/44 [==============================] - 0s 7ms/step - loss: 0.1339 - accuracy: 0.9695 - val_loss: 0.1533 - val_accuracy: 0.9517\n",
            "14/14 [==============================] - 0s 4ms/step - loss: 0.1814 - accuracy: 0.9477\n",
            "Test accuracy: 0.9477272629737854\n"
          ]
        }
      ]
    },
    {
      "cell_type": "code",
      "source": [
        "model.save('model.h5')"
      ],
      "metadata": {
        "colab": {
          "base_uri": "https://localhost:8080/"
        },
        "id": "b7fuyKgn3Jon",
        "outputId": "e7092a9b-c4b9-4e42-a500-d8232845f412"
      },
      "execution_count": 8,
      "outputs": [
        {
          "output_type": "stream",
          "name": "stderr",
          "text": [
            "/usr/local/lib/python3.10/dist-packages/keras/src/engine/training.py:3103: UserWarning: You are saving your model as an HDF5 file via `model.save()`. This file format is considered legacy. We recommend using instead the native Keras format, e.g. `model.save('my_model.keras')`.\n",
            "  saving_api.save_model(\n"
          ]
        }
      ]
    }
  ]
}