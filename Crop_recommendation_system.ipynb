{
  "nbformat": 4,
  "nbformat_minor": 0,
  "metadata": {
    "colab": {
      "provenance": [],
      "gpuType": "T4",
      "authorship_tag": "ABX9TyMUD5QPuQ2PZQ78OPqvR3gX",
      "include_colab_link": true
    },
    "kernelspec": {
      "name": "python3",
      "display_name": "Python 3"
    },
    "language_info": {
      "name": "python"
    },
    "accelerator": "GPU"
  },
  "cells": [
    {
      "cell_type": "markdown",
      "metadata": {
        "id": "view-in-github",
        "colab_type": "text"
      },
      "source": [
        "<a href=\"https://colab.research.google.com/github/Henil21/Crop-recommendation-tf/blob/main/Crop_recommendation_system.ipynb\" target=\"_parent\"><img src=\"https://colab.research.google.com/assets/colab-badge.svg\" alt=\"Open In Colab\"/></a>"
      ]
    },
    {
      "cell_type": "code",
      "execution_count": 101,
      "metadata": {
        "id": "aA5IN_n31wMt"
      },
      "outputs": [],
      "source": [
        "import pandas as pd\n",
        "import numpy as np\n",
        "import tensorflow as tf\n",
        "from sklearn.model_selection import train_test_split\n",
        "from sklearn.preprocessing import LabelEncoder, StandardScaler\n",
        "\n"
      ]
    },
    {
      "cell_type": "code",
      "source": [
        "tf.random.set_seed(42)\n",
        "df = pd.read_csv('Crop_recommendation.csv')\n",
        "\n",
        "X = df.drop('label', axis=1)  # Features\n",
        "y = df['label']  # Labels\n",
        "\n",
        "label_encoder = LabelEncoder()\n",
        "y = label_encoder.fit_transform(y)\n",
        "\n",
        "\n",
        "X_train, X_test, y_train, y_test = train_test_split(X, y, test_size=0.3, random_state=42)\n",
        "\n",
        "\n",
        "scaler = StandardScaler()\n",
        "X_train_scaled = scaler.fit_transform(X_train)\n",
        "X_test_scaled = scaler.transform(X_test)\n",
        "# labels = df['label'].unique()\n",
        "# labels"
      ],
      "metadata": {
        "id": "De96tGwQ2QMa"
      },
      "execution_count": 102,
      "outputs": []
    },
    {
      "cell_type": "code",
      "source": [
        "tf.random.set_seed(42)\n",
        "model = tf.keras.models.Sequential([\n",
        "    tf.keras.layers.Input(shape=(X_train_scaled.shape[1],)),\n",
        "    tf.keras.layers.Dense(128, activation='relu'),\n",
        "    tf.keras.layers.Dropout(0.2),\n",
        "    tf.keras.layers.Dense(64, activation='relu'),\n",
        "    tf.keras.layers.Dropout(0.2),\n",
        "\n",
        "    tf.keras.layers.Dense(len(np.unique(y)), activation='softmax')  # Output layer\n",
        "])\n",
        "\n",
        "model.compile(optimizer=tf.keras.optimizers.Adam(0.001),\n",
        "              loss='sparse_categorical_crossentropy',\n",
        "              metrics=['accuracy'])\n",
        "\n",
        "model.fit(X_train_scaled, y_train, epochs=10, batch_size=32, validation_split=0.2)\n",
        "\n",
        "\n",
        "test_loss, test_acc = model.evaluate(X_test_scaled, y_test)\n",
        "print(f'Test accuracy: {test_acc}')\n"
      ],
      "metadata": {
        "colab": {
          "base_uri": "https://localhost:8080/"
        },
        "id": "JKpLSP-c2UkM",
        "outputId": "ef3470c4-11b5-47e0-fe9e-2f6ea734b76c"
      },
      "execution_count": 103,
      "outputs": [
        {
          "output_type": "stream",
          "name": "stdout",
          "text": [
            "Epoch 1/10\n",
            "39/39 [==============================] - 2s 15ms/step - loss: 2.7584 - accuracy: 0.2638 - val_loss: 2.3515 - val_accuracy: 0.5260\n",
            "Epoch 2/10\n",
            "39/39 [==============================] - 0s 5ms/step - loss: 2.0212 - accuracy: 0.5089 - val_loss: 1.5816 - val_accuracy: 0.7110\n",
            "Epoch 3/10\n",
            "39/39 [==============================] - 0s 5ms/step - loss: 1.3617 - accuracy: 0.6729 - val_loss: 0.9730 - val_accuracy: 0.7857\n",
            "Epoch 4/10\n",
            "39/39 [==============================] - 0s 4ms/step - loss: 0.9000 - accuracy: 0.7630 - val_loss: 0.6621 - val_accuracy: 0.8506\n",
            "Epoch 5/10\n",
            "39/39 [==============================] - 0s 4ms/step - loss: 0.6505 - accuracy: 0.8344 - val_loss: 0.4806 - val_accuracy: 0.8799\n",
            "Epoch 6/10\n",
            "39/39 [==============================] - 0s 4ms/step - loss: 0.5053 - accuracy: 0.8644 - val_loss: 0.3715 - val_accuracy: 0.9253\n",
            "Epoch 7/10\n",
            "39/39 [==============================] - 0s 5ms/step - loss: 0.4363 - accuracy: 0.8628 - val_loss: 0.3284 - val_accuracy: 0.9123\n",
            "Epoch 8/10\n",
            "39/39 [==============================] - 0s 4ms/step - loss: 0.3836 - accuracy: 0.8856 - val_loss: 0.2828 - val_accuracy: 0.9286\n",
            "Epoch 9/10\n",
            "39/39 [==============================] - 0s 5ms/step - loss: 0.3488 - accuracy: 0.8896 - val_loss: 0.2437 - val_accuracy: 0.9351\n",
            "Epoch 10/10\n",
            "39/39 [==============================] - 0s 4ms/step - loss: 0.3103 - accuracy: 0.9042 - val_loss: 0.2455 - val_accuracy: 0.9318\n",
            "21/21 [==============================] - 0s 2ms/step - loss: 0.2391 - accuracy: 0.9333\n",
            "Test accuracy: 0.9333333373069763\n"
          ]
        }
      ]
    },
    {
      "cell_type": "code",
      "source": [
        "model.save('model.h5')"
      ],
      "metadata": {
        "colab": {
          "base_uri": "https://localhost:8080/"
        },
        "id": "b7fuyKgn3Jon",
        "outputId": "0406ca1b-a88b-4457-c471-7183b03d1939"
      },
      "execution_count": 104,
      "outputs": [
        {
          "output_type": "stream",
          "name": "stderr",
          "text": [
            "/usr/local/lib/python3.10/dist-packages/keras/src/engine/training.py:3103: UserWarning: You are saving your model as an HDF5 file via `model.save()`. This file format is considered legacy. We recommend using instead the native Keras format, e.g. `model.save('my_model.keras')`.\n",
            "  saving_api.save_model(\n"
          ]
        }
      ]
    },
    {
      "cell_type": "code",
      "source": [
        "import numpy as np\n",
        "import pandas as pd\n",
        "from sklearn.preprocessing import StandardScaler, LabelEncoder\n",
        "from tensorflow.keras.models import load_model\n",
        "tf.random.set_seed(42)\n",
        "# Load your saved model\n",
        "model = load_model('model.h5')\n",
        "\n",
        "# Load your new data for prediction (assuming similar format as training data)\n",
        "new_data = pd.DataFrame({\n",
        "    'N': [90],  # Example values, replace with your actual data\n",
        "    'P': [48],\n",
        "    'K': [43],\n",
        "    'temperature': [21.770],\n",
        "    'humidity': [80.31964],\n",
        "    'ph': [6.502985],\n",
        "    'rainfall': [226.655]\n",
        "})\n",
        "\n",
        "scaler = StandardScaler()\n",
        "new_data_scaled = scaler.fit_transform(new_data)\n",
        "\n",
        "\n",
        "predictions = model.predict(new_data_scaled)\n",
        "\n",
        "\n",
        "label_encoder = LabelEncoder()\n",
        "\n",
        "labels =['rice', 'maize', 'chickpea', 'kidneybeans', 'pigeonpeas',\n",
        "       'mothbeans', 'mungbean', 'blackgram', 'lentil', 'pomegranate',\n",
        "       'banana', 'mango', 'grapes', 'watermelon', 'muskmelon', 'apple',\n",
        "       'orange', 'papaya', 'coconut', 'cotton', 'jute', 'coffee']\n",
        "label_encoder.fit(labels)\n",
        "\n",
        "\n",
        "predicted_labels_encoded = np.argmax(predictions, axis=1)\n",
        "predicted_labels = label_encoder.inverse_transform(predicted_labels_encoded)\n",
        "\n",
        "print(\"Predicted labels (encoded):\")\n",
        "print(predicted_labels_encoded)\n",
        "\n",
        "print(\"Predicted labels (decoded):\")\n",
        "print(predicted_labels)\n"
      ],
      "metadata": {
        "colab": {
          "base_uri": "https://localhost:8080/"
        },
        "id": "tRNrox7j5t_M",
        "outputId": "5ab0d8bf-09f4-4750-ac35-08a10fb0b32f"
      },
      "execution_count": 105,
      "outputs": [
        {
          "output_type": "stream",
          "name": "stdout",
          "text": [
            "1/1 [==============================] - 0s 52ms/step\n",
            "Predicted labels (encoded):\n",
            "[11]\n",
            "Predicted labels (decoded):\n",
            "['maize']\n"
          ]
        }
      ]
    }
  ]
}